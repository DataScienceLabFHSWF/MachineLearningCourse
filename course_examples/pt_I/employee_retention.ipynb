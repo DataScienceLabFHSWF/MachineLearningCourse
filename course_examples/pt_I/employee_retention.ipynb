{
 "cells": [
  {
   "cell_type": "code",
   "execution_count": 1,
   "metadata": {},
   "outputs": [],
   "source": [
    "import random\n",
    "\n",
    "import math\n",
    "import numpy as np\n",
    "import pandas as pd\n",
    "from numpy import log, exp\n",
    "\n",
    "import matplotlib.pyplot as plt"
   ]
  },
  {
   "cell_type": "code",
   "execution_count": 2,
   "metadata": {},
   "outputs": [
    {
     "name": "stderr",
     "output_type": "stream",
     "text": [
      "/tmp/ipykernel_165332/2937848697.py:10: FutureWarning: Series.__getitem__ treating keys as positions is deprecated. In a future version, integer keys will always be treated as labels (consistent with DataFrame behavior). To access a value by position, use `ser.iloc[pos]`\n",
      "  employee_data = [(EmployeeRetention(row[0], row[1], row[2], row[3], row[4])) for index, row in\n"
     ]
    }
   ],
   "source": [
    "class EmployeeRetention:\n",
    "    def __init__(self, sex, age, promotions, years_employed, did_quit):\n",
    "        self.sex = sex\n",
    "        self.age = age\n",
    "        self.promotions = promotions\n",
    "        self.years_employed = years_employed\n",
    "        self.did_quit = did_quit\n",
    "\n",
    "\n",
    "employee_data = [(EmployeeRetention(row[0], row[1], row[2], row[3], row[4])) for index, row in\n",
    "                 pd.read_csv(\"data/employee_logreg_data.txt\").iterrows()]"
   ]
  },
  {
   "cell_type": "code",
   "execution_count": null,
   "metadata": {},
   "outputs": [],
   "source": [
    "sexes = [emp.sex for emp in employee_data]\n",
    "did_quit = [emp.did_quit for emp in employee_data]\n",
    "\n",
    "# Calculate the percentage of employees who quit per sex\n",
    "sex_quit_percentage = {sex: sum(1 for emp in employee_data if emp.sex == sex and emp.did_quit == 1) /\n",
    "                       sum(1 for emp in employee_data if emp.sex == sex) * 100 for sex in set(sexes)}\n",
    "# Plot the data\n",
    "plt.bar(sex_quit_percentage.keys(), sex_quit_percentage.values(), alpha=0.5)\n",
    "plt.xlabel('Sex')\n",
    "plt.ylabel('Quit Percentage')\n",
    "plt.title('Employee Quit Percentage by Sex')\n",
    "plt.xticks(ticks=[0, 1], labels=['0', '1'])\n",
    "plt.show()"
   ]
  },
  {
   "cell_type": "code",
   "execution_count": null,
   "metadata": {},
   "outputs": [],
   "source": [
    "ages = [emp.age for emp in employee_data]\n",
    "\n",
    "# Plot the data\n",
    "plt.scatter(ages, did_quit, alpha=0.5)\n",
    "plt.xlabel('Age')\n",
    "plt.ylabel('Did Quit')\n",
    "plt.title('Employee Age vs Did Quit')\n",
    "plt.show()\n",
    "\n",
    "ages_quit_percentage = {age: (sum(1 for emp in employee_data if emp.age == age and emp.did_quit == 1) /\n",
    "                        sum(1 for emp in employee_data if emp.age == age) * 100, sum(1 for emp in employee_data if emp.age == age))\n",
    "                        for age in set(ages)}\n",
    "\n",
    "print(f\"Age: Quit Percentage, Number of Employees with age\")\n",
    "print(ages_quit_percentage)\n",
    "\n",
    "# Plot the data\n",
    "plt.bar(ages_quit_percentage.keys(), np.array(list(ages_quit_percentage.values()))[:,0], alpha=0.5)\n",
    "plt.xlabel('Age')\n",
    "plt.ylabel('Quit Percentage')\n",
    "plt.title('Employee Quit Percentage by Age')\n",
    "plt.show()"
   ]
  },
  {
   "cell_type": "code",
   "execution_count": null,
   "metadata": {},
   "outputs": [],
   "source": [
    "promotions = [emp.promotions for emp in employee_data]\n",
    "\n",
    "promo_quit_percentage = {promo: (sum(1 for emp in employee_data if emp.promotions == promo and emp.did_quit == 1) /\n",
    "                         sum(1 for emp in employee_data if emp.promotions == promo) * 100, sum(1 for emp in employee_data if emp.promotions == promo))\n",
    "                         for promo in set(promotions)}\n",
    "\n",
    "print(f\"Num promotions: Quit Percentage, Number of Employees with amount of promotions\")\n",
    "print(promo_quit_percentage)\n",
    "\n",
    "plt.bar(promo_quit_percentage.keys(), np.array(list(promo_quit_percentage.values()))[:,0], alpha=0.5)\n",
    "plt.xlabel('Promotions')\n",
    "plt.ylabel('Quit Percentage')\n",
    "plt.title('Employee Quit Percentage by Promotions')\n",
    "plt.xticks(ticks=list(promo_quit_percentage.keys()), labels=list(promo_quit_percentage.keys()))\n",
    "plt.show()"
   ]
  },
  {
   "cell_type": "code",
   "execution_count": null,
   "metadata": {},
   "outputs": [],
   "source": [
    "years_employed = [emp.years_employed for emp in employee_data]\n",
    "\n",
    "years_employed_quit_percentage = {years: (sum(1 for emp in employee_data if emp.years_employed == years and emp.did_quit == 1) /\n",
    "                            sum(1 for emp in employee_data if emp.years_employed == years) * 100, sum(1 for emp in employee_data if emp.years_employed == years))\n",
    "                            for years in set(years_employed)}\n",
    "\n",
    "print(f\"Years employed: Quit Percentage, Number of Employees with amount of years employed\")\n",
    "print(years_employed_quit_percentage)\n",
    "\n",
    "plt.bar(years_employed_quit_percentage.keys(), np.array(list(years_employed_quit_percentage.values()))[:,0], alpha=0.5)\n",
    "plt.xlabel('Years Employed')\n",
    "plt.ylabel('Quit Percentage')\n",
    "plt.title('Employee Quit Percentage by Years Employed')\n",
    "plt.xticks(ticks=list(years_employed_quit_percentage.keys()), labels=list(years_employed_quit_percentage.keys()))\n",
    "plt.show()"
   ]
  },
  {
   "cell_type": "code",
   "execution_count": null,
   "metadata": {},
   "outputs": [],
   "source": [
    "best_likelihood = -100_000_000_000.0\n",
    "b0 = 1.0  # constant\n",
    "b1 = 1.0  # sex beta\n",
    "b2 = 1.0  # age beta\n",
    "b3 = 1.0  # promotions beta\n",
    "b4 = 1.0  # years employed beta\n",
    "b_values = [(b0, b1, b2, b3, b4)]\n",
    "likelihoods = [best_likelihood]\n",
    "\n",
    "iterations = 100_000\n",
    "\n",
    "# calculate maximum likelihood\n",
    "\n",
    "def predict_probability(sex, age, promotions, years_employed, b0, b1, b2, b3, b4):\n",
    "    x = b0 + (b1 * sex) + (b2 * age) + (b3 * promotions) + (b4 * years_employed)\n",
    "    odds = exp(-x)\n",
    "    p = 1.0 / (1.0 + odds)\n",
    "    return p\n",
    "\n",
    "for i in range(iterations):\n",
    "\n",
    "    # Select b0, b1, b2, b3, or b4 randomly, and adjust it by a random amount\n",
    "    random_b = random.choice(range(5))\n",
    "\n",
    "    random_adjust = np.random.standard_normal()\n",
    "\n",
    "    if random_b == 0:\n",
    "        b0 += random_adjust\n",
    "    elif random_b == 1:\n",
    "        b1 += random_adjust\n",
    "    elif random_b == 2:\n",
    "        b2 += random_adjust\n",
    "    elif random_b == 3:\n",
    "        b3 += random_adjust\n",
    "    elif random_b == 4:\n",
    "        b4 += random_adjust\n",
    "\n",
    "    # calculate new likelihood\n",
    "    # Use logarithmic addition to avoid multiplication and decimal underflow\n",
    "    new_likelihood = 0.0\n",
    "\n",
    "    for emp in employee_data:\n",
    "\n",
    "        probability = predict_probability(emp.sex, emp.age, emp.promotions, emp.years_employed, b0, b1, b2, b3, b4)\n",
    "\n",
    "        if emp.did_quit == 1:\n",
    "            new_likelihood += log(probability)\n",
    "        else:\n",
    "            new_likelihood += log(1.00001 - probability)\n",
    "\n",
    "    # If solution improves, keep it and make it new best likelihood. Otherwise undo the adjustment\n",
    "    if best_likelihood < new_likelihood:\n",
    "        best_likelihood = new_likelihood\n",
    "        b_values.append((b0, b1, b2, b3, b4))\n",
    "        likelihoods.append(new_likelihood)\n",
    "        \n",
    "        print(f\"{i}/{iterations} | #adjustments: {len(b_values)}\")\n",
    "        print(\"1.0 / (1 + exp(-({0} + {1}*sex + {2}*age + {3}*promo + {4}*years))\".format(b0, b1, b2, b3, b4))\n",
    "        print(\"BEST LIKELIHOOD: {0} | log-likelihood: {1}\\n\".format(math.exp(best_likelihood), best_likelihood))\n",
    "        \n",
    "    elif random_b == 0:\n",
    "        b0 -= random_adjust\n",
    "    elif random_b == 1:\n",
    "        b1 -= random_adjust\n",
    "    elif random_b == 2:\n",
    "        b2 -= random_adjust\n",
    "    elif random_b == 3:\n",
    "        b3 -= random_adjust\n",
    "    elif random_b == 4:\n",
    "        b4 -= random_adjust\n",
    "\n",
    "# Print best result\n",
    "print(\"1.0 / (1 + exp(-({0} + {1}*sex + {2}*age + {3}*promo + {4}*years))\".format(b0, b1, b2, b3, b4))\n",
    "print(\"BEST LIKELIHOOD: {0} | log-likelihood: {1}\\n\".format(math.exp(best_likelihood), best_likelihood))\n",
    "print(f\"#adjustments: {len(b_values)}\")"
   ]
  },
  {
   "cell_type": "code",
   "execution_count": null,
   "metadata": {},
   "outputs": [],
   "source": [
    "# Interact and test with new employee data\n",
    "def predict_employee_will_stay(sex, age, promotions, years_employed, b0, b1, b2, b3, b4):\n",
    "    probability_of_leaving = predict_probability(sex, age, promotions, years_employed, b0, b1, b2, b3, b4)\n",
    "    if probability_of_leaving >= .5:\n",
    "        return \"WILL LEAVE, {0}% chance of leaving\".format(round(probability_of_leaving * 100.0,2))\n",
    "    else:\n",
    "        return \"WILL STAY, {0}% chance of leaving\".format(round(probability_of_leaving * 100.0,2))\n",
    "\n",
    "\n",
    "while True:\n",
    "    n = input(\"Predict employee will stay or leave {sex},{age},{promotions},{years employed}: \")\n",
    "    (sex, age, promotions, years_employed, b0, b1, b2, b3, b4) = n.split(\",\")\n",
    "    print(predict_employee_will_stay(int(sex), int(age), int(promotions), int(years_employed)))"
   ]
  },
  {
   "cell_type": "markdown",
   "metadata": {},
   "source": [
    "## sklearn"
   ]
  },
  {
   "cell_type": "code",
   "execution_count": 96,
   "metadata": {},
   "outputs": [],
   "source": [
    "from sklearn.linear_model import LogisticRegression"
   ]
  },
  {
   "cell_type": "code",
   "execution_count": null,
   "metadata": {},
   "outputs": [],
   "source": [
    "X = np.array([[emp.sex, emp.age, emp.promotions, emp.years_employed] for emp in employee_data])\n",
    "y = np.array([emp.did_quit for emp in employee_data])\n",
    "\n",
    "reg_model = LogisticRegression()\n",
    "clf = reg_model.fit(X, y)\n",
    "\n",
    "b0 = clf.intercept_[0]\n",
    "b1, b2, b3, b4 = clf.coef_[0]\n",
    "\n",
    "log_likelihood = (sum(math.log(predict_probability(emp.sex, emp.age, emp.promotions, emp.years_employed, b0, b1, b2, b3, b4)) for emp in employee_data if emp.did_quit == 1.0) + \n",
    "             sum(math.log(1.0 - predict_probability(emp.sex, emp.age, emp.promotions, emp.years_employed, b0, b1, b2, b3, b4)) for emp in employee_data if emp.did_quit == 0.0))\n",
    "\n",
    "print(f\"b0: {b0}, b1: {b1}, b2: {b2}, b3: {b3}, b4: {b4}\")\n",
    "print(f\"Log-Likelihood: {log_likelihood}\")\n",
    "print(f\"Likelihood: {np.exp(log_likelihood)}\")\n",
    "print(clf.predict([[0, 50, 4, 10]]))\n"
   ]
  }
 ],
 "metadata": {
  "kernelspec": {
   "display_name": "masterarbeit",
   "language": "python",
   "name": "python3"
  },
  "language_info": {
   "codemirror_mode": {
    "name": "ipython",
    "version": 3
   },
   "file_extension": ".py",
   "mimetype": "text/x-python",
   "name": "python",
   "nbconvert_exporter": "python",
   "pygments_lexer": "ipython3",
   "version": "3.11.9"
  }
 },
 "nbformat": 4,
 "nbformat_minor": 2
}
